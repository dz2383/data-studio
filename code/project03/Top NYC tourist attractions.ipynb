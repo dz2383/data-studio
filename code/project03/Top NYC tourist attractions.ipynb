{
 "cells": [
  {
   "cell_type": "code",
   "execution_count": 1,
   "metadata": {},
   "outputs": [],
   "source": [
    "# my libiaries \n",
    "from selenium import webdriver\n",
    "from selenium.webdriver.common.keys import Keys\n",
    "from selenium.webdriver.support.ui import Select\n",
    "from selenium.webdriver.support.ui import WebDriverWait\n",
    "\n",
    "import pandas as pd\n",
    "import time\n",
    "import re\n",
    "import numpy as np\n",
    "import matplotlib.pyplot as plt\n",
    "from cycler import cycler\n",
    "\n",
    "%matplotlib inline"
   ]
  },
  {
   "cell_type": "code",
   "execution_count": null,
   "metadata": {},
   "outputs": [],
   "source": [
    "listing_title "
   ]
  },
  {
   "cell_type": "code",
   "execution_count": 2,
   "metadata": {},
   "outputs": [],
   "source": [
    "driver = webdriver.Chrome()\n",
    "driver.get('https://www.tripadvisor.com/Attractions-g60763-Activities-New_York_City_New_York.html#FILTERED_LIST')\n"
   ]
  },
  {
   "cell_type": "code",
   "execution_count": 3,
   "metadata": {},
   "outputs": [
    {
     "name": "stdout",
     "output_type": "stream",
     "text": [
      "Doesn't have a star\n"
     ]
    },
    {
     "data": {
      "text/plain": [
       "[{'name': 'Manhattan Skyline', 'url': None}]"
      ]
     },
     "execution_count": 3,
     "metadata": {},
     "output_type": "execute_result"
    }
   ],
   "source": [
    "# test out 1 page\n",
    "datapoints=[]\n",
    "results = driver.find_elements_by_xpath('//*[@id=\"FILTERED_LIST\"]')\n",
    "\n",
    "for result in results:\n",
    "#     print(\"---------\")\n",
    "    datapoint= {}\n",
    "    \n",
    "    title = result.find_element_by_class_name(\"listing_title \")\n",
    "    datapoint['name'] = title.text\n",
    "    datapoint['url'] = title.get_attribute('href')\n",
    "    try:\n",
    "        star = result.find_element_by_class_name('ui_bubble_rating bubble_45')\n",
    "        datapoint['star'] = star.get_attribut('alt')\n",
    "    except:\n",
    "        print(\"Doesn't have a star\")\n",
    "#     datapoint['categories'] = result.find_element_by_class_name(\"category-str-list\").text\n",
    "#     datapoint['area']=result.find_element_by_class_name('neighborhood-str-list').text\n",
    "#     datapoint['address']=result.find_element_by_tag_name('address').text\n",
    "#     stars = result.find_element_by_class_name(\"i-stars\")\n",
    "#     rating = stars.get_attribute(\"title\")\n",
    "#     datapoint['rating'] = rating.replace(\" star rating\", \"\")\n",
    "#     print(datapoint)\n",
    "    datapoints.append(datapoint)\n",
    "    \n",
    "datapoints"
   ]
  },
  {
   "cell_type": "code",
   "execution_count": null,
   "metadata": {},
   "outputs": [],
   "source": []
  }
 ],
 "metadata": {
  "kernelspec": {
   "display_name": "Python 3",
   "language": "python",
   "name": "python3"
  },
  "language_info": {
   "codemirror_mode": {
    "name": "ipython",
    "version": 3
   },
   "file_extension": ".py",
   "mimetype": "text/x-python",
   "name": "python",
   "nbconvert_exporter": "python",
   "pygments_lexer": "ipython3",
   "version": "3.6.5"
  }
 },
 "nbformat": 4,
 "nbformat_minor": 2
}
